{
 "cells": [
  {
   "cell_type": "code",
   "id": "initial_id",
   "metadata": {
    "collapsed": true,
    "ExecuteTime": {
     "end_time": "2024-04-29T15:12:58.907144Z",
     "start_time": "2024-04-29T15:12:58.883993Z"
    }
   },
   "source": [
    "from chromadb import Settings\n",
    "import chromadb\n",
    "client = chromadb.HttpClient(\n",
    "    host='https://localhost/chromadb',\n",
    "    ssl=True, \n",
    "    settings=Settings(chroma_server_ssl_verify='./certs/servercert.pem')\n",
    ")\n",
    "print(client.heartbeat())"
   ],
   "outputs": [
    {
     "name": "stdout",
     "output_type": "stream",
     "text": [
      "1714403578904463836\n"
     ]
    }
   ],
   "execution_count": 5
  },
  {
   "cell_type": "code",
   "outputs": [],
   "source": [],
   "metadata": {
    "collapsed": false
   },
   "id": "f25ec88f2ecd48c0",
   "execution_count": null
  }
 ],
 "metadata": {
  "kernelspec": {
   "display_name": "Python 3",
   "language": "python",
   "name": "python3"
  },
  "language_info": {
   "codemirror_mode": {
    "name": "ipython",
    "version": 2
   },
   "file_extension": ".py",
   "mimetype": "text/x-python",
   "name": "python",
   "nbconvert_exporter": "python",
   "pygments_lexer": "ipython2",
   "version": "2.7.6"
  }
 },
 "nbformat": 4,
 "nbformat_minor": 5
}
